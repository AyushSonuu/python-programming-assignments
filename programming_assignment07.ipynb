{
  "nbformat": 4,
  "nbformat_minor": 0,
  "metadata": {
    "colab": {
      "provenance": [],
      "authorship_tag": "ABX9TyPGTEfqTtSVsGuU1BBXOqg5",
      "include_colab_link": true
    },
    "kernelspec": {
      "name": "python3",
      "display_name": "Python 3"
    },
    "language_info": {
      "name": "python"
    }
  },
  "cells": [
    {
      "cell_type": "markdown",
      "metadata": {
        "id": "view-in-github",
        "colab_type": "text"
      },
      "source": [
        "<a href=\"https://colab.research.google.com/github/AyushSonuu/python-programming-assignments/blob/main/programming_assignment07.ipynb\" target=\"_parent\"><img src=\"https://colab.research.google.com/assets/colab-badge.svg\" alt=\"Open In Colab\"/></a>"
      ]
    },
    {
      "cell_type": "markdown",
      "source": [
        "1. Write a Python Program to find sum of array?"
      ],
      "metadata": {
        "id": "Do_SoqZ-N7S7"
      }
    },
    {
      "cell_type": "code",
      "execution_count": 16,
      "metadata": {
        "colab": {
          "base_uri": "https://localhost:8080/"
        },
        "id": "HRSbgrdzN58N",
        "outputId": "de0ecdbb-6abd-4d9f-ad8b-46d37608f0ae"
      },
      "outputs": [
        {
          "output_type": "stream",
          "name": "stdout",
          "text": [
            "enter the array seperated by spaces25 25 25 25 25\n",
            "the sum of array [25, 25, 25, 25, 25] is 125\n"
          ]
        }
      ],
      "source": [
        "arr = (input(\"enter the array seperated by spaces\").split())\n",
        "arr = list(map(int,arr))\n",
        "s = sum(arr)\n",
        "print(f\"the sum of array {arr} is {s}\")"
      ]
    },
    {
      "cell_type": "markdown",
      "source": [
        "2. Write a Python Program to find largest element in an array?"
      ],
      "metadata": {
        "id": "p0Wm11sZPVZN"
      }
    },
    {
      "cell_type": "code",
      "source": [
        "arr = (input(\"enter the array seperated by spaces\").split())\n",
        "arr = list(map(int,arr))\n",
        "m = max(arr)\n",
        "print(f\"the largest element in an array {arr} is {m}\")"
      ],
      "metadata": {
        "colab": {
          "base_uri": "https://localhost:8080/"
        },
        "id": "HmPze4LYOQL0",
        "outputId": "bc9aed4f-0517-455d-f5bd-ef44bb735b0e"
      },
      "execution_count": 17,
      "outputs": [
        {
          "output_type": "stream",
          "name": "stdout",
          "text": [
            "enter the array seperated by spaces12 2552 456 154851 654 \n",
            "the largest element in an array [12, 2552, 456, 154851, 654] is 154851\n"
          ]
        }
      ]
    },
    {
      "cell_type": "markdown",
      "source": [
        "3. Write a Python Program for array rotation?"
      ],
      "metadata": {
        "id": "vfdDPE3BPoAX"
      }
    },
    {
      "cell_type": "code",
      "source": [
        "def rotateList(arr,d,n):\n",
        "  arr[:]=arr[d:n]+arr[0:d]\n",
        "  return arr\n",
        "\n",
        "ar = [1,2,3,4,5,6,7,8,9]\n",
        "\n",
        "print(rotateList(ar,2,len(ar)))"
      ],
      "metadata": {
        "colab": {
          "base_uri": "https://localhost:8080/"
        },
        "id": "OKLvwWaGOm_u",
        "outputId": "6eb54a80-1504-4280-e022-9a83e3af5e71"
      },
      "execution_count": 26,
      "outputs": [
        {
          "output_type": "stream",
          "name": "stdout",
          "text": [
            "[3, 4, 5, 6, 7, 8, 9, 1, 2]\n"
          ]
        }
      ]
    },
    {
      "cell_type": "markdown",
      "source": [
        "4. Write a Python Program to Split the array and add the first part to the end?"
      ],
      "metadata": {
        "id": "NQHp0cwiR-3T"
      }
    },
    {
      "cell_type": "code",
      "source": [
        "def splitArr(a, k): \n",
        "   b = a[:k]\n",
        "   return (a[k::]+b[::])\n",
        "          \n",
        "ar = [1,2,3,4,5,6,7,8,9]\n",
        "print(splitArr(ar,3))"
      ],
      "metadata": {
        "colab": {
          "base_uri": "https://localhost:8080/"
        },
        "id": "1CCIEkVkSA27",
        "outputId": "7e78d727-1645-4b2c-c262-2688d254e74b"
      },
      "execution_count": 31,
      "outputs": [
        {
          "output_type": "stream",
          "name": "stdout",
          "text": [
            "[4, 5, 6, 7, 8, 9, 1, 2, 3]\n"
          ]
        }
      ]
    },
    {
      "cell_type": "markdown",
      "source": [
        "5. Write a Python Program to check if given array is Monotonic?"
      ],
      "metadata": {
        "id": "RRpyiw8iVmKm"
      }
    },
    {
      "cell_type": "code",
      "source": [
        "def isMonotonic(A):\n",
        "    x, y = [], []\n",
        "    x.extend(A)\n",
        "    y.extend(A)\n",
        "    x.sort()\n",
        "    y.sort(reverse=True)\n",
        "    print(x,y)\n",
        "    if(x == A or y == A):\n",
        "        return True\n",
        "    return False\n",
        " \n",
        " \n",
        "# Driver program\n",
        "A = [10, 5, 4, 5]\n",
        " \n",
        "# Print required result\n",
        "print(isMonotonic(A))"
      ],
      "metadata": {
        "colab": {
          "base_uri": "https://localhost:8080/"
        },
        "id": "IUoMzYU1Voxo",
        "outputId": "0f0f83e0-02cf-4f25-8a96-4bd559b059f2"
      },
      "execution_count": 41,
      "outputs": [
        {
          "output_type": "stream",
          "name": "stdout",
          "text": [
            "[4, 5, 5, 10] [10, 5, 5, 4]\n",
            "False\n"
          ]
        }
      ]
    }
  ]
}