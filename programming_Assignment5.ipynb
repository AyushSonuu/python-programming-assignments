{
  "nbformat": 4,
  "nbformat_minor": 0,
  "metadata": {
    "colab": {
      "provenance": [],
      "collapsed_sections": [],
      "authorship_tag": "ABX9TyOIrY90oKYDbQVeZs156qQJ",
      "include_colab_link": true
    },
    "kernelspec": {
      "name": "python3",
      "display_name": "Python 3"
    },
    "language_info": {
      "name": "python"
    }
  },
  "cells": [
    {
      "cell_type": "markdown",
      "metadata": {
        "id": "view-in-github",
        "colab_type": "text"
      },
      "source": [
        "<a href=\"https://colab.research.google.com/github/AyushSonuu/python-programming-assignments/blob/main/programming_Assignment5.ipynb\" target=\"_parent\"><img src=\"https://colab.research.google.com/assets/colab-badge.svg\" alt=\"Open In Colab\"/></a>"
      ]
    },
    {
      "cell_type": "markdown",
      "source": [
        "1. Write a Python Program to Find LCM?"
      ],
      "metadata": {
        "id": "PMQg0CXGN3TW"
      }
    },
    {
      "cell_type": "code",
      "execution_count": 7,
      "metadata": {
        "colab": {
          "base_uri": "https://localhost:8080/"
        },
        "id": "E0R0oN0TNdSV",
        "outputId": "9c8e3e9f-637b-469f-bf77-8dbd83843e85"
      },
      "outputs": [
        {
          "output_type": "stream",
          "name": "stdout",
          "text": [
            "enter two numbers to find lcm seperated by space5 2\n",
            "The L.C.M. is 10\n"
          ]
        }
      ],
      "source": [
        "num1 , num2 = (input(\"enter two numbers to find lcm seperated by space\")).split(\" \")\n",
        "num1 = int(num1)\n",
        "num2 = int (num2)\n",
        "if num1 > num2:\n",
        "       greater = num1\n",
        "else:\n",
        "       greater = num2\n",
        "\n",
        "while(True):\n",
        "       if((greater % num1 == 0) and (greater % num2 == 0)):\n",
        "           lcm = greater\n",
        "           break\n",
        "       greater += 1\n",
        "\n",
        "\n",
        "print(\"The L.C.M. is\",lcm)"
      ]
    },
    {
      "cell_type": "markdown",
      "source": [
        "2. Write a Python Program to Find HCF?"
      ],
      "metadata": {
        "id": "A-WZVANwP3Kj"
      }
    },
    {
      "cell_type": "code",
      "source": [
        "x = 54 \n",
        "y = 24\n",
        "if x > y:\n",
        "        smaller = y\n",
        "else:\n",
        "        smaller = x\n",
        "for i in range(1, smaller+1):\n",
        "        if((x % i == 0) and (y % i == 0)):\n",
        "            hcf = i \n",
        "\n",
        "\n",
        "\n",
        "\n",
        "print(\"The H.C.F. is\", lcm)"
      ],
      "metadata": {
        "colab": {
          "base_uri": "https://localhost:8080/"
        },
        "id": "gnGy0Fp4P5q1",
        "outputId": "186a6f00-063e-495b-8b0f-8d47bb2632ef"
      },
      "execution_count": 9,
      "outputs": [
        {
          "output_type": "stream",
          "name": "stdout",
          "text": [
            "The H.C.F. is 10\n"
          ]
        }
      ]
    },
    {
      "cell_type": "markdown",
      "source": [
        "3. Write a Python Program to Convert Decimal to Binary, Octal and Hexadecimal?"
      ],
      "metadata": {
        "id": "3qZEq1giQeJd"
      }
    },
    {
      "cell_type": "code",
      "source": [
        "n = int(input(\"eenter number to convert from decimal to binary, octal, hexadecimal\"))\n",
        "res = \"\"\n",
        "while(n>0):\n",
        "  r = n%2\n",
        "  res = res + str(r)\n",
        "  n = n//2\n",
        "print(res[::-1])"
      ],
      "metadata": {
        "colab": {
          "base_uri": "https://localhost:8080/"
        },
        "id": "rGdSIWAtQd1y",
        "outputId": "e69c43ac-302e-4a75-e196-b86d835bb9ea"
      },
      "execution_count": 14,
      "outputs": [
        {
          "output_type": "stream",
          "name": "stdout",
          "text": [
            "eenter number to convert from decimal to binary, octal, hexadecimal24\n",
            "0001\n"
          ]
        }
      ]
    },
    {
      "cell_type": "markdown",
      "source": [
        "4. Write a Python Program To Find ASCII value of a character?"
      ],
      "metadata": {
        "id": "UpCZ0I0OfjIK"
      }
    },
    {
      "cell_type": "code",
      "source": [
        "cha = input(\"enter a char \")\n",
        "asciival = ord(cha)\n",
        "print(f\"the ASCII value of character {cha} is {asciival} \")"
      ],
      "metadata": {
        "colab": {
          "base_uri": "https://localhost:8080/"
        },
        "id": "-atwDWEcfj42",
        "outputId": "6eab1dc6-bcab-48a9-d601-e93a35f90546"
      },
      "execution_count": 16,
      "outputs": [
        {
          "output_type": "stream",
          "name": "stdout",
          "text": [
            "enter a char a\n",
            "the ASCII value of character a is 97 \n"
          ]
        }
      ]
    },
    {
      "cell_type": "markdown",
      "source": [
        "5. Write a Python Program to Make a Simple Calculator with 4 basic mathematical operations?"
      ],
      "metadata": {
        "id": "3bMSnW0CoG-X"
      }
    },
    {
      "cell_type": "code",
      "source": [
        "promplt_msg = \"\"\"SIMPLE CALCULATOR \n",
        "1. Addition\n",
        "2. Subtraction\n",
        "3. Multiplication\n",
        "4. Division\n",
        "q. exit\n",
        "ENTER YOU OPERATION \"\"\"\n",
        "\n",
        "while True:\n",
        "  ope = input(promplt_msg)\n",
        "  if ope == \"q\":\n",
        "    break\n",
        "  a,b = input(\"enter the two numbers seperated by space\").split()\n",
        "  \n",
        "  a = int(a)\n",
        "  b = int(b)\n",
        "  \n",
        "\n",
        "  if ope == \"1\":\n",
        "    print(f\"the addition of {a} and {b} is {a+b} \")\n",
        "  elif ope == \"2\":\n",
        "    print(f\"the subtraction of {a} and {b} is {a-b} \")\n",
        "  elif ope == \"3\":\n",
        "    print(f\"the multiplication of {a} and {b} is {a*b} \")\n",
        "  elif ope == \"4\":\n",
        "    print(f\"the division of {a} and {b} is {a/b} \")\n",
        "  else:\n",
        "    print(\"invalid input\")\n"
      ],
      "metadata": {
        "colab": {
          "base_uri": "https://localhost:8080/"
        },
        "id": "JY0_VhV4oHpP",
        "outputId": "ac4b2391-7988-4557-d2e9-717f56cc392e"
      },
      "execution_count": 42,
      "outputs": [
        {
          "name": "stdout",
          "output_type": "stream",
          "text": [
            "SIMPLE CALCULATOR \n",
            "1. Addition\n",
            "2. Subtraction\n",
            "3. Multiplication\n",
            "4. Division\n",
            "q. exit\n",
            "ENTER YOU OPERATION 1\n",
            "enter the two numbers seperated by space12 21\n",
            "the addition of 12 and 21 is 33 \n",
            "SIMPLE CALCULATOR \n",
            "1. Addition\n",
            "2. Subtraction\n",
            "3. Multiplication\n",
            "4. Division\n",
            "q. exit\n",
            "ENTER YOU OPERATION q\n"
          ]
        }
      ]
    }
  ]
}