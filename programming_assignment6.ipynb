{
  "nbformat": 4,
  "nbformat_minor": 0,
  "metadata": {
    "colab": {
      "provenance": [],
      "collapsed_sections": [],
      "authorship_tag": "ABX9TyOeEsZ8l7lnKIZXMb03mnJb",
      "include_colab_link": true
    },
    "kernelspec": {
      "name": "python3",
      "display_name": "Python 3"
    },
    "language_info": {
      "name": "python"
    }
  },
  "cells": [
    {
      "cell_type": "markdown",
      "metadata": {
        "id": "view-in-github",
        "colab_type": "text"
      },
      "source": [
        "<a href=\"https://colab.research.google.com/github/AyushSonuu/python-programming-assignments/blob/main/programming_assignment6.ipynb\" target=\"_parent\"><img src=\"https://colab.research.google.com/assets/colab-badge.svg\" alt=\"Open In Colab\"/></a>"
      ]
    },
    {
      "cell_type": "markdown",
      "source": [
        "1. Write a Python Program to Display Fibonacci Sequence Using Recursion?"
      ],
      "metadata": {
        "id": "pRLmpDUO-FAa"
      }
    },
    {
      "cell_type": "code",
      "execution_count": 9,
      "metadata": {
        "colab": {
          "base_uri": "https://localhost:8080/"
        },
        "id": "7Lny92Ju91AV",
        "outputId": "99ee1aef-59b8-4a64-9ce6-f0f19eb9de57"
      },
      "outputs": [
        {
          "output_type": "stream",
          "name": "stdout",
          "text": [
            "enter how many number of elements you want to see10\n",
            "0 1 1 2 3 5 8 13 21 34 "
          ]
        }
      ],
      "source": [
        "def fibo(n):\n",
        "     if n<=1:\n",
        "       return n\n",
        "     else:\n",
        "       return(fibo(n-1)+fibo(n-2))\n",
        "item = int (input(\"enter how many number of elements you want to see\"))\n",
        "if item <0:\n",
        "  print(\"please enter the ositive number\")\n",
        "else:\n",
        "  for i in range(item):\n",
        "    print(fibo(i),end = \" \")"
      ]
    },
    {
      "cell_type": "markdown",
      "source": [
        "2. Write a Python Program to Find Factorial of Number Using Recursion?"
      ],
      "metadata": {
        "id": "Be-MtcSW_6WB"
      }
    },
    {
      "cell_type": "code",
      "source": [
        "def fact(n):\n",
        "  if n==0 or n==1:\n",
        "    return n\n",
        "  else:\n",
        "     return(n*fact(n-1))\n",
        "n = int(input(\"enter the number to find factorial\"))\n",
        "fac = fact(n)\n",
        "print(f\"the factorial of {n} is {fac}\")\n"
      ],
      "metadata": {
        "colab": {
          "base_uri": "https://localhost:8080/"
        },
        "id": "ADtQcoH_-dbg",
        "outputId": "0ab3e19a-a3d8-4a73-d34c-30d176fe9b39"
      },
      "execution_count": 11,
      "outputs": [
        {
          "output_type": "stream",
          "name": "stdout",
          "text": [
            "enter the number to find factorial5\n",
            "the factorial of 5 is 120\n"
          ]
        }
      ]
    },
    {
      "cell_type": "markdown",
      "source": [
        "3. Write a Python Program to calculate your Body Mass Index?"
      ],
      "metadata": {
        "id": "syRCH6MjCM9F"
      }
    },
    {
      "cell_type": "code",
      "source": [
        "height = float(input(\"enter your height in meters\"))\n",
        "weight = float(input(\"enter your weight in kilograms\"))\n",
        "bmi = weight/height**2\n",
        "if bmi <= 18.5:\n",
        "  print(\"under weight\")\n",
        "elif 18.5< bmi <= 24.9:\n",
        "  print(\"normal weight\")\n",
        "elif bmi >= 25 and bmi <= 29.9:\n",
        "  print(\"over weight\")\n",
        "elif bmi > 30 :\n",
        "  print(\"obesity\")\n",
        "else :\n",
        "  print(\"eneter valid height and weight values\")"
      ],
      "metadata": {
        "colab": {
          "base_uri": "https://localhost:8080/"
        },
        "id": "G0FmNGfNBhZw",
        "outputId": "04d41cb1-f63c-498e-fb76-31959dc4eb5a"
      },
      "execution_count": 18,
      "outputs": [
        {
          "output_type": "stream",
          "name": "stdout",
          "text": [
            "enter your height in meters1.8\n",
            "enter your weight in kilograms85\n",
            "over weight\n"
          ]
        }
      ]
    },
    {
      "cell_type": "markdown",
      "source": [
        "4. Write a Python Program to calculate the natural logarithm of any number?"
      ],
      "metadata": {
        "id": "lsOpX80zE44v"
      }
    },
    {
      "cell_type": "code",
      "source": [
        "import math\n",
        "\n",
        "number = int(input(\"Enter the number: \"))\n",
        "\n",
        "ans = math.log(number)\n",
        "\n",
        "print(\"The value is:\",ans)"
      ],
      "metadata": {
        "colab": {
          "base_uri": "https://localhost:8080/"
        },
        "id": "s9_0tfpgFBxC",
        "outputId": "1dd1f230-37a8-4412-a965-7447be238936"
      },
      "execution_count": 21,
      "outputs": [
        {
          "output_type": "stream",
          "name": "stdout",
          "text": [
            "Enter the number: 10\n",
            "The value is: 2.302585092994046\n"
          ]
        }
      ]
    },
    {
      "cell_type": "markdown",
      "source": [
        "5. Write a Python Program for cube sum of first n natural numbers?"
      ],
      "metadata": {
        "id": "VC-PMa1HFpPp"
      }
    },
    {
      "cell_type": "code",
      "source": [
        "n = int(input(\"enter a number up to which you want the cube of sum\"))\n",
        "lst = [i**3 for i in range(1,n+1)]\n",
        "s = sum(lst)\n",
        "print(s)"
      ],
      "metadata": {
        "colab": {
          "base_uri": "https://localhost:8080/"
        },
        "id": "X5qPyNGjFm9A",
        "outputId": "a7943ec1-00ad-4508-f2be-2948e7e60ac3"
      },
      "execution_count": 26,
      "outputs": [
        {
          "output_type": "stream",
          "name": "stdout",
          "text": [
            "enter a number up to which you want the cube of sum3\n",
            "[1, 8, 27]\n",
            "36\n"
          ]
        }
      ]
    }
  ]
}